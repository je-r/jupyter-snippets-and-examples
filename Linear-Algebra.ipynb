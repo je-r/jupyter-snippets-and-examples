{
  "nbformat": 4,
  "nbformat_minor": 0,
  "metadata": {
    "colab": {
      "name": "Linear-Algebra.ipynb",
      "provenance": [],
      "collapsed_sections": []
    },
    "kernelspec": {
      "name": "python3",
      "display_name": "Python 3"
    }
  },
  "cells": [
    {
      "cell_type": "code",
      "metadata": {
        "colab": {
          "base_uri": "https://localhost:8080/"
        },
        "id": "xJrOlyLYjjpP",
        "outputId": "bbb97eaa-ca82-4bf8-beeb-e9d942853a12"
      },
      "source": [
        "# this notebook is inspired by book \"Data Science from Scratch...\" by J. Grus but not 1 to 1 copy\n",
        "# (see also https://github.com/joelgrus/data-science-from-scratch/blob/master/scratch/linear_algebra.py )\n",
        "\n",
        "# keep in mind: this notebook just to understand linear algebra, \n",
        "# functions here are not for production, where NumPy library is recommended\n",
        "\n",
        "# part 1 of 2: vectors:\n",
        "\n",
        "# examples of vectors list of numbers:\n",
        "\n",
        "height_weight_age = [70, # inches, \n",
        "                     170, # pounds,\n",
        "                     40 ] # years\n",
        "grades = [95,   # exam1\n",
        "          80,   # exam2\n",
        "          75,   # exam3\n",
        "          62 ]  # exam4\n",
        "print(height_weight_age)\n",
        "print(grades)"
      ],
      "execution_count": 80,
      "outputs": [
        {
          "output_type": "stream",
          "text": [
            "[70, 170, 40]\n",
            "[95, 80, 75, 62]\n"
          ],
          "name": "stdout"
        }
      ]
    },
    {
      "cell_type": "code",
      "metadata": {
        "id": "dDSTzv9Xl9B2"
      },
      "source": [
        "def vector_add(v, w): # adds corresponding elements\n",
        "    return [v_i + w_i\n",
        "            for v_i, w_i in zip(v, w)]"
      ],
      "execution_count": 81,
      "outputs": []
    },
    {
      "cell_type": "code",
      "metadata": {
        "colab": {
          "base_uri": "https://localhost:8080/"
        },
        "id": "64ibXenXmhit",
        "outputId": "8b07a368-dc92-489b-db4d-92b64402abf1"
      },
      "source": [
        "vector_add([1,2],[2,1])"
      ],
      "execution_count": 82,
      "outputs": [
        {
          "output_type": "execute_result",
          "data": {
            "text/plain": [
              "[3, 3]"
            ]
          },
          "metadata": {
            "tags": []
          },
          "execution_count": 82
        }
      ]
    },
    {
      "cell_type": "code",
      "metadata": {
        "id": "OoJ96g5coJHj"
      },
      "source": [
        "def vector_subtract(v, w): # subtracts corresponding elements\n",
        "    return [v_i - w_i\n",
        "            for v_i, w_i in zip(v, w)]"
      ],
      "execution_count": 83,
      "outputs": []
    },
    {
      "cell_type": "code",
      "metadata": {
        "colab": {
          "base_uri": "https://localhost:8080/"
        },
        "id": "7-HSRxF9qQIs",
        "outputId": "d520a608-0a20-4b47-e6a2-abe529ba238b"
      },
      "source": [
        "vector_subtract([3,3],[2,1])"
      ],
      "execution_count": 84,
      "outputs": [
        {
          "output_type": "execute_result",
          "data": {
            "text/plain": [
              "[1, 2]"
            ]
          },
          "metadata": {
            "tags": []
          },
          "execution_count": 84
        }
      ]
    },
    {
      "cell_type": "code",
      "metadata": {
        "id": "9XzM52R_rEwY"
      },
      "source": [
        "def vector_sum(vectors): # sums all corresponding elements\n",
        "    result = vectors[0]\n",
        "    for vector in vectors[1:]:\n",
        "      result = vector_add(result, vector) \n",
        "    return result"
      ],
      "execution_count": 85,
      "outputs": []
    },
    {
      "cell_type": "code",
      "metadata": {
        "colab": {
          "base_uri": "https://localhost:8080/"
        },
        "id": "DwbK8g50rsPz",
        "outputId": "6aaeefec-dae2-468a-9dc6-fbd86e5d1b14"
      },
      "source": [
        "vector_sum([[1,2],[3,4],[5,6]])"
      ],
      "execution_count": 86,
      "outputs": [
        {
          "output_type": "execute_result",
          "data": {
            "text/plain": [
              "[9, 12]"
            ]
          },
          "metadata": {
            "tags": []
          },
          "execution_count": 86
        }
      ]
    },
    {
      "cell_type": "code",
      "metadata": {
        "id": "fTHQF2GespRh"
      },
      "source": [
        "# first get the function\n",
        "from functools import reduce\n",
        "# then define new version\n",
        "def vector_sum2(vectors):\n",
        "  return reduce(vector_add, vectors)"
      ],
      "execution_count": 87,
      "outputs": []
    },
    {
      "cell_type": "code",
      "metadata": {
        "colab": {
          "base_uri": "https://localhost:8080/"
        },
        "id": "4NvtFP8isw0M",
        "outputId": "d44ca0f6-4684-4eae-c016-0eea096a6200"
      },
      "source": [
        "vector_sum2([[1,2],[3,4],[5,6]])"
      ],
      "execution_count": 88,
      "outputs": [
        {
          "output_type": "execute_result",
          "data": {
            "text/plain": [
              "[9, 12]"
            ]
          },
          "metadata": {
            "tags": []
          },
          "execution_count": 88
        }
      ]
    },
    {
      "cell_type": "code",
      "metadata": {
        "id": "lQnn5VqstXn2"
      },
      "source": [
        "# first get the function\n",
        "from functools import partial\n",
        "# then define new version\n",
        "vector_sum3 = partial(reduce, vector_add)"
      ],
      "execution_count": 89,
      "outputs": []
    },
    {
      "cell_type": "code",
      "metadata": {
        "colab": {
          "base_uri": "https://localhost:8080/"
        },
        "id": "TEius5QYthcC",
        "outputId": "e79a7e77-13db-4c2a-a805-09e8cd0d7c4c"
      },
      "source": [
        "vector_sum3([[1,2],[3,4],[5,6]])"
      ],
      "execution_count": 90,
      "outputs": [
        {
          "output_type": "execute_result",
          "data": {
            "text/plain": [
              "[9, 12]"
            ]
          },
          "metadata": {
            "tags": []
          },
          "execution_count": 90
        }
      ]
    },
    {
      "cell_type": "code",
      "metadata": {
        "id": "xim_dnPmt24H"
      },
      "source": [
        "def scalar_multiply(c, v): # c is a number, v is a vector\n",
        "  return [c * v_i for v_i in v]"
      ],
      "execution_count": 91,
      "outputs": []
    },
    {
      "cell_type": "code",
      "metadata": {
        "colab": {
          "base_uri": "https://localhost:8080/"
        },
        "id": "KbsaF2iduCaN",
        "outputId": "d68e1276-77ff-4cb6-cda7-2c104e0fde60"
      },
      "source": [
        "scalar_multiply(3,[1,1])"
      ],
      "execution_count": 92,
      "outputs": [
        {
          "output_type": "execute_result",
          "data": {
            "text/plain": [
              "[3, 3]"
            ]
          },
          "metadata": {
            "tags": []
          },
          "execution_count": 92
        }
      ]
    },
    {
      "cell_type": "code",
      "metadata": {
        "id": "iF2canVh5ECO"
      },
      "source": [
        "def vector_mean(vectors): # compute the vector whose ith element is the mean of the ith elements of the input vectors\n",
        "  n = len(vectors)\n",
        "  return scalar_multiply(1/n, vector_sum(vectors))"
      ],
      "execution_count": 93,
      "outputs": []
    },
    {
      "cell_type": "code",
      "metadata": {
        "colab": {
          "base_uri": "https://localhost:8080/"
        },
        "id": "lSAJzjKr5qWI",
        "outputId": "6d119711-502f-49ca-b78a-8a9cd41911fd"
      },
      "source": [
        "vector_mean([[1,2],[2,1]])"
      ],
      "execution_count": 94,
      "outputs": [
        {
          "output_type": "execute_result",
          "data": {
            "text/plain": [
              "[1.5, 1.5]"
            ]
          },
          "metadata": {
            "tags": []
          },
          "execution_count": 94
        }
      ]
    },
    {
      "cell_type": "code",
      "metadata": {
        "id": "QBRuiINO50K8"
      },
      "source": [
        "def dot(v, w): # v_1 * w_1 + ... + v_n * w_n\n",
        "  return sum(v_i * w_i\n",
        "  for v_i, w_i in zip(v, w))"
      ],
      "execution_count": 95,
      "outputs": []
    },
    {
      "cell_type": "code",
      "metadata": {
        "colab": {
          "base_uri": "https://localhost:8080/"
        },
        "id": "ytEtaeTs6h_L",
        "outputId": "98b7defe-ebf0-4ee4-cf5b-eea8b974e399"
      },
      "source": [
        "dot([1,2],[0.8,0.5]) # the length of the vector you’d get if you projected vector1 onto vector2"
      ],
      "execution_count": 96,
      "outputs": [
        {
          "output_type": "execute_result",
          "data": {
            "text/plain": [
              "1.8"
            ]
          },
          "metadata": {
            "tags": []
          },
          "execution_count": 96
        }
      ]
    },
    {
      "cell_type": "code",
      "metadata": {
        "id": "tMBYAEal7Sjf"
      },
      "source": [
        "def sum_of_squares(v): # v_1 * v_1 + ... + v_n * v_n\n",
        "    return dot(v, v)"
      ],
      "execution_count": 97,
      "outputs": []
    },
    {
      "cell_type": "code",
      "metadata": {
        "colab": {
          "base_uri": "https://localhost:8080/"
        },
        "id": "zWnT4C0OCFV0",
        "outputId": "d0384d17-4b71-4b19-cb44-793c67ad1024"
      },
      "source": [
        "sum_of_squares([3,4])"
      ],
      "execution_count": 98,
      "outputs": [
        {
          "output_type": "execute_result",
          "data": {
            "text/plain": [
              "25"
            ]
          },
          "metadata": {
            "tags": []
          },
          "execution_count": 98
        }
      ]
    },
    {
      "cell_type": "code",
      "metadata": {
        "id": "19IwHETsCQA6"
      },
      "source": [
        "# calculating magnitude or length of vector:\n",
        "import math\n",
        "def magnitude(v):\n",
        "    return math.sqrt(sum_of_squares(v)) # math.sqrt is square root function"
      ],
      "execution_count": 99,
      "outputs": []
    },
    {
      "cell_type": "code",
      "metadata": {
        "colab": {
          "base_uri": "https://localhost:8080/"
        },
        "id": "2e4UZ7_-DIN4",
        "outputId": "42a50cc9-5eb0-45e0-d1e1-21cf45b592f2"
      },
      "source": [
        "magnitude([1,2])"
      ],
      "execution_count": 100,
      "outputs": [
        {
          "output_type": "execute_result",
          "data": {
            "text/plain": [
              "2.23606797749979"
            ]
          },
          "metadata": {
            "tags": []
          },
          "execution_count": 100
        }
      ]
    },
    {
      "cell_type": "code",
      "metadata": {
        "id": "Sm66aZkFDopu"
      },
      "source": [
        "# distance between two vectors:\n",
        "\n",
        "def squared_distance(v, w): # (v_1 - w_1) ** 2 + ... + (v_n - w_n) ** 2\n",
        "    return sum_of_squares(vector_subtract(v, w))\n",
        "\n",
        "def distance(v, w):\n",
        "    return math.sqrt(squared_distance(v, w))"
      ],
      "execution_count": 101,
      "outputs": []
    },
    {
      "cell_type": "code",
      "metadata": {
        "colab": {
          "base_uri": "https://localhost:8080/"
        },
        "id": "s03OfybOFMnH",
        "outputId": "d131b1cc-5a2b-4919-b19f-2afe1499ea67"
      },
      "source": [
        "distance([1,2],[3,4])"
      ],
      "execution_count": 102,
      "outputs": [
        {
          "output_type": "execute_result",
          "data": {
            "text/plain": [
              "2.8284271247461903"
            ]
          },
          "metadata": {
            "tags": []
          },
          "execution_count": 102
        }
      ]
    },
    {
      "cell_type": "code",
      "metadata": {
        "id": "wTwBVbbHFSAm"
      },
      "source": [
        "# clearer version:\n",
        "def distance2(v, w):\n",
        "    return magnitude(vector_subtract(v, w))"
      ],
      "execution_count": 103,
      "outputs": []
    },
    {
      "cell_type": "code",
      "metadata": {
        "colab": {
          "base_uri": "https://localhost:8080/"
        },
        "id": "DcVnyxPjFX3e",
        "outputId": "d48353da-2cef-42b0-eb21-a50e683199d4"
      },
      "source": [
        "distance2([1,2],[3,4])"
      ],
      "execution_count": 104,
      "outputs": [
        {
          "output_type": "execute_result",
          "data": {
            "text/plain": [
              "2.8284271247461903"
            ]
          },
          "metadata": {
            "tags": []
          },
          "execution_count": 104
        }
      ]
    },
    {
      "cell_type": "code",
      "metadata": {
        "id": "Th5GtgozDoyT"
      },
      "source": [
        "# part 2 of 2: matrix calculations, matrices"
      ],
      "execution_count": 105,
      "outputs": []
    }
  ]
}