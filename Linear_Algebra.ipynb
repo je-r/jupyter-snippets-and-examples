{
  "nbformat": 4,
  "nbformat_minor": 0,
  "metadata": {
    "colab": {
      "name": "Linear-Algebra.ipynb",
      "provenance": [],
      "collapsed_sections": []
    },
    "kernelspec": {
      "name": "python3",
      "display_name": "Python 3"
    }
  },
  "cells": [
    {
      "cell_type": "code",
      "metadata": {
        "colab": {
          "base_uri": "https://localhost:8080/"
        },
        "id": "xJrOlyLYjjpP",
        "outputId": "7d537389-2c28-4076-adc2-b7cfde6f982b"
      },
      "source": [
        "# inspired by book \"Data Science from Scratch...\" by J. Grus:\n",
        "\n",
        "# examples of vectors list of numbers:\n",
        "\n",
        "height_weight_age = [70, # inches, \n",
        "                     170, # pounds,\n",
        "                     40 ] # years\n",
        "grades = [95,   # exam1\n",
        "          80,   # exam2\n",
        "          75,   # exam3\n",
        "          62 ]  # exam4\n",
        "print(height_weight_age)\n",
        "print(grades)"
      ],
      "execution_count": 17,
      "outputs": [
        {
          "output_type": "stream",
          "text": [
            "[70, 170, 40]\n",
            "[95, 80, 75, 62]\n"
          ],
          "name": "stdout"
        }
      ]
    },
    {
      "cell_type": "code",
      "metadata": {
        "id": "dDSTzv9Xl9B2"
      },
      "source": [
        "def vector_add(v, w): # adds corresponding elements\n",
        "    return [v_i + w_i\n",
        "      for v_i, w_i in zip(v, w)]"
      ],
      "execution_count": 12,
      "outputs": []
    },
    {
      "cell_type": "code",
      "metadata": {
        "colab": {
          "base_uri": "https://localhost:8080/"
        },
        "id": "64ibXenXmhit",
        "outputId": "5fa8fe72-0e33-4707-9358-5cd250c6783e"
      },
      "source": [
        "vector_add([1,2],[2,1])"
      ],
      "execution_count": 13,
      "outputs": [
        {
          "output_type": "execute_result",
          "data": {
            "text/plain": [
              "[3, 3]"
            ]
          },
          "metadata": {
            "tags": []
          },
          "execution_count": 13
        }
      ]
    },
    {
      "cell_type": "code",
      "metadata": {
        "id": "OoJ96g5coJHj"
      },
      "source": [
        ""
      ],
      "execution_count": 22,
      "outputs": []
    }
  ]
}